{
 "cells": [
  {
   "cell_type": "code",
   "execution_count": null,
   "id": "7400e41d-e6f5-45b4-89fa-8688a8b386a0",
   "metadata": {},
   "outputs": [],
   "source": []
  }
 ],
 "metadata": {
  "kernelspec": {
   "display_name": "",
   "name": ""
  },
  "language_info": {
   "name": ""
  }
 },
 "nbformat": 4,
 "nbformat_minor": 5
}
